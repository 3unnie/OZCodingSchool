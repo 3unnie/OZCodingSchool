{
 "cells": [
  {
   "cell_type": "markdown",
   "metadata": {},
   "source": [
    "[문제]\n",
    "\n",
    "'Account' 클래스를 작성하세요. \n",
    "\n",
    "이 클래스는 소유자(owner)와 잔액(balance)을 속성으로 가지며, 잔액은 프라이빗 변수로 선언합니다. \n",
    "\n",
    "'deposit'와 'withdraw' 두 개의 메소드를 통해 잔액을 조작할 수 있도록 하세요. \n",
    "\n",
    "이 때, 잔액은 음수가 될 수 없도록 체크해야 합니다. 'Account' 객체를 생성하고,<br>\n",
    "입금 및 출금 작업을 시뮬레이션한 후, 최종 잔액을 출력하세요."
   ]
  },
  {
   "cell_type": "code",
   "execution_count": 17,
   "metadata": {},
   "outputs": [
    {
     "name": "stdout",
     "output_type": "stream",
     "text": [
      "1000 입금\n",
      "[잔액]: 2000\n",
      "500 출금\n",
      "[잔액]: 1500\n",
      "잔액이 부족합니다.\n",
      "[잔액]: 1500\n"
     ]
    }
   ],
   "source": [
    "class Account:\n",
    "    def __init__(self,owner,balance):\n",
    "        self.owner = owner\n",
    "        self.__balance = balance\n",
    "    \n",
    "    def deposit(self,deposit_fee):\n",
    "        self.__balance += deposit_fee\n",
    "        print(f'{deposit_fee} 입금')\n",
    "        print(f'[잔액]: {self.__balance}')\n",
    "\n",
    "    def withdraw(self,withdraw_fee):\n",
    "        if self.__balance - withdraw_fee < 0:\n",
    "            print(\"잔액이 부족합니다.\")\n",
    "        else:\n",
    "            self.__balance -= withdraw_fee\n",
    "            print(f'{withdraw_fee} 출금')\n",
    "\n",
    "        print(f'[잔액]: {self.__balance}')\n",
    "\n",
    "owner1 = Account(\"조먼지\",1000)\n",
    "while True:\n",
    "    menu = input(\"입금 과 출금 중 입력해주세요\")\n",
    "    if menu == \"입금\":\n",
    "        money = int(input(\"입금하실 금액을 적어주세요\"))\n",
    "        owner1.deposit(money)\n",
    "    elif menu == \"출금\":\n",
    "        money = int(input(\"출금하실 금액을 적어주세요\"))\n",
    "        owner1.withdraw(money)\n",
    "    else:\n",
    "        break\n",
    "\n",
    "\n"
   ]
  }
 ],
 "metadata": {
  "kernelspec": {
   "display_name": "Python 3",
   "language": "python",
   "name": "python3"
  },
  "language_info": {
   "codemirror_mode": {
    "name": "ipython",
    "version": 3
   },
   "file_extension": ".py",
   "mimetype": "text/x-python",
   "name": "python",
   "nbconvert_exporter": "python",
   "pygments_lexer": "ipython3",
   "version": "3.12.2"
  }
 },
 "nbformat": 4,
 "nbformat_minor": 2
}
