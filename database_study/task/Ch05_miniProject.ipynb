{
 "cells": [
  {
   "cell_type": "code",
   "execution_count": 10,
   "metadata": {},
   "outputs": [
    {
     "name": "stdout",
     "output_type": "stream",
     "text": [
      "['https://www.yes24.com/Product/Goods/126110769', 'https://www.yes24.com/Product/Goods/126029503', 'https://www.yes24.com/Product/Goods/126010792', 'https://www.yes24.com/Product/Goods/124999476', 'https://www.yes24.com/Product/Goods/125295101', 'https://www.yes24.com/Product/Goods/117014613', 'https://www.yes24.com/Product/Goods/125651056', 'https://www.yes24.com/Product/Goods/126112069', 'https://www.yes24.com/Product/Goods/126123023', 'https://www.yes24.com/Product/Goods/125992096', 'https://www.yes24.com/Product/Goods/125491624', 'https://www.yes24.com/Product/Goods/125576919', 'https://www.yes24.com/Product/Goods/123675187', 'https://www.yes24.com/Product/Goods/125557465', 'https://www.yes24.com/Product/Goods/126189777', 'https://www.yes24.com/Product/Goods/124515978', 'https://www.yes24.com/Product/Goods/122120495', 'https://www.yes24.com/Product/Goods/123930880', 'https://www.yes24.com/Product/Goods/123930891', 'https://www.yes24.com/Product/Goods/126123006', 'https://www.yes24.com/Product/Goods/125973831', 'https://www.yes24.com/Product/Goods/96547408', 'https://www.yes24.com/Product/Goods/124043812', 'https://www.yes24.com/Product/Goods/123400303', 'https://www.yes24.com/Product/Goods/124043802', 'https://www.yes24.com/Product/Goods/125757418', 'https://www.yes24.com/Product/Goods/8759796', 'https://www.yes24.com/Product/Goods/124702605', 'https://www.yes24.com/Product/Goods/90926731', 'https://www.yes24.com/Product/Goods/125606168', 'https://www.yes24.com/Product/Goods/125794793', 'https://www.yes24.com/Product/Goods/126045417', 'https://www.yes24.com/Product/Goods/125384202', 'https://www.yes24.com/Product/Goods/126045955', 'https://www.yes24.com/Product/Goods/124926484', 'https://www.yes24.com/Product/Goods/125752452', 'https://www.yes24.com/Product/Goods/124539805', 'https://www.yes24.com/Product/Goods/104086365', 'https://www.yes24.com/Product/Goods/125871480', 'https://www.yes24.com/Product/Goods/123318244', 'https://www.yes24.com/Product/Goods/102932372', 'https://www.yes24.com/Product/Goods/124112599', 'https://www.yes24.com/Product/Goods/126012006', 'https://www.yes24.com/Product/Goods/125558276', 'https://www.yes24.com/Product/Goods/126031355', 'https://www.yes24.com/Product/Goods/125709308', 'https://www.yes24.com/Product/Goods/125384672', 'https://www.yes24.com/Product/Goods/125184439', 'https://www.yes24.com/Product/Goods/59003542', 'https://www.yes24.com/Product/Goods/126161818', 'https://www.yes24.com/Product/Goods/125974756', 'https://www.yes24.com/Product/Goods/126029190', 'https://www.yes24.com/Product/Goods/126053427', 'https://www.yes24.com/Product/Goods/125905365', 'https://www.yes24.com/Product/Goods/125970777', 'https://www.yes24.com/Product/Goods/124645703', 'https://www.yes24.com/Product/Goods/118579613', 'https://www.yes24.com/Product/Goods/82287934', 'https://www.yes24.com/Product/Goods/125085536', 'https://www.yes24.com/Product/Goods/125183742', 'https://www.yes24.com/Product/Goods/114853233', 'https://www.yes24.com/Product/Goods/122090360', 'https://www.yes24.com/Product/Goods/126030742', 'https://www.yes24.com/Product/Goods/125448202', 'https://www.yes24.com/Product/Goods/125660337', 'https://www.yes24.com/Product/Goods/118413014', 'https://www.yes24.com/Product/Goods/125992327', 'https://www.yes24.com/Product/Goods/125912298', 'https://www.yes24.com/Product/Goods/126158173', 'https://www.yes24.com/Product/Goods/97255028', 'https://www.yes24.com/Product/Goods/118569079', 'https://www.yes24.com/Product/Goods/25283908']\n"
     ]
    }
   ],
   "source": [
    "from selenium import webdriver\n",
    "from webdriver_manager.chrome import ChromeDriverManager\n",
    "ChromeDriverManager().install()\n",
    "from selenium.webdriver.common.by import By\n",
    "import time\n",
    "import pymysql\n",
    "\n",
    "conn = pymysql.connect(\n",
    "    host='localhost',  \n",
    "    user='root',       \n",
    "    password='1234',  \n",
    "    db='yes24',       \n",
    "    charset='utf8mb4',\n",
    "    cursorclass=pymysql.cursors.DictCursor\n",
    ")\n",
    "\n",
    "\n",
    "browser = webdriver.Chrome()\n",
    "\n",
    "link_list = []\n",
    "\n",
    "for i in range(1,4):\n",
    "    url = f\"https://www.yes24.com/Product/Category/BestSeller?categoryNumber=001&pageNumber={i}&pageSize=24\"\n",
    "    browser.get(url)\n",
    "    \n",
    "    datas = browser.find_elements(By.CLASS_NAME,'gd_name') #리스트\n",
    "\n",
    "    for i in datas:\n",
    "        link = i.get_attribute('href')\n",
    "        link_list.append(link)\n",
    "\n",
    "    time.sleep(3)\n",
    "\n",
    "print(link_list)"
   ]
  },
  {
   "cell_type": "code",
   "execution_count": 23,
   "metadata": {},
   "outputs": [
    {
     "data": {
      "text/plain": [
       "['국내도서', '8위', '|', '국내도서', 'top20', '1주']"
      ]
     },
     "execution_count": 23,
     "metadata": {},
     "output_type": "execute_result"
    }
   ],
   "source": [
    "import time\n",
    "\n",
    "import re\n",
    "from datetime import datetime\n",
    "from selenium.common.exceptions import NoSuchElementException\n",
    "\n",
    "browser.get(link_list[7])\n",
    "\n",
    "title = browser.find_element(By.CLASS_NAME,'gd_name').text\n",
    "author = browser.find_element(By.CLASS_NAME,'gd_auth').text\n",
    "publisher= browser.find_element(By.CLASS_NAME,'gd_pub').text\n",
    "\n",
    "#[publishing]\n",
    "publishing= browser.find_element(By.CLASS_NAME,'gd_date').text\n",
    "match = re.search(r'(\\d+)년 (\\d+)월 (\\d+)일',publishing)\n",
    "       \n",
    "if match:\n",
    "    year, month, day = match.groups()\n",
    "    data_obj = datetime(int(year),int(month),int(day))\n",
    "    publishing = data_obj.strftime(\"%Y-%m-%d\")\n",
    "else:\n",
    "    publishing = \"0000-00-00\"\n",
    "\n",
    "#[rating]\n",
    "try:\n",
    "    rating_element = browser.find_element(By.CLASS_NAME, \"yes_b\").text\n",
    "    try:\n",
    "        rating = float(rating_element)\n",
    "    except ValueError:\n",
    "        rating = 0\n",
    "except NoSuchElementException:\n",
    "    rating = 0\n",
    "\n",
    "#[review]\n",
    "try:\n",
    "    review = int(browser.find_element(By.CLASS_NAME,'txC_blue').text.replace(\",\", \"\"))\n",
    "except NoSuchElementException:\n",
    "    review = 0\n",
    "except (ValueError, TypeError):\n",
    "    review = 0\n",
    "\n",
    "sales = int(browser.find_element(By.CLASS_NAME,'gd_sellNum').text.split(\" \")[2].replace(\",\", \"\"))\n",
    "prices = int(browser.find_element(By.CLASS_NAME,'yes_m').text[:-1].replace(\",\", \"\"))\n",
    "ranking = int(browser.find_element(By.CLASS_NAME,'gd_best').find_element(By.TAG_NAME,'dd').text.split(\" \")[1][:-1])\n",
    "\n",
    "#[ranking_weeks]\n",
    "try:\n",
    "    ranking_weeks = int(browser.find_element(By.CLASS_NAME,'gd_best').find_element(By.TAG_NAME,'dd').text.split(\" \")[-1][:-1])\n",
    "except IndexError:\n",
    "    ranking_weeks = 0\n",
    "\n"
   ]
  }
 ],
 "metadata": {
  "kernelspec": {
   "display_name": "Python 3",
   "language": "python",
   "name": "python3"
  },
  "language_info": {
   "codemirror_mode": {
    "name": "ipython",
    "version": 3
   },
   "file_extension": ".py",
   "mimetype": "text/x-python",
   "name": "python",
   "nbconvert_exporter": "python",
   "pygments_lexer": "ipython3",
   "version": "3.12.3"
  }
 },
 "nbformat": 4,
 "nbformat_minor": 2
}
