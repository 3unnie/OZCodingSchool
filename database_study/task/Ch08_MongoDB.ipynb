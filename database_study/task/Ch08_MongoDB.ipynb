{
 "cells": [
  {
   "cell_type": "code",
   "execution_count": null,
   "metadata": {},
   "outputs": [],
   "source": [
    "from pymongo import MongoClient\n",
    "import datetime\n",
    "\n",
    "client = MongoClient('mongodb://localhost:27017/')\n",
    "\n",
    "db = client['pyMongo_study'] #use pyMongo_study'"
   ]
  },
  {
   "cell_type": "markdown",
   "metadata": {},
   "source": [
    "**[문제 1: 특정 장르의 책 찾기]**\n",
    "\n",
    "- **문제 설명**:\n",
    "사용자는 \"fantasy\" 장르의 모든 책을 찾고 싶어합니다.\n",
    "- **쿼리 작성 목표**:\n",
    "\"fantasy\" 장르에 해당하는 모든 책의 제목과 저자를 찾는 MongoDB 쿼리를 함수로 만들어 문제를 해결해 봅니다."
   ]
  },
  {
   "cell_type": "code",
   "execution_count": null,
   "metadata": {},
   "outputs": [],
   "source": [
    "def findGenreBooks(db,genre):\n",
    "    collection = db['books']\n",
    "\n",
    "    query = {\"genre\": genre}\n",
    "    projection = {\"title\": 1, \"author\": 1}\n",
    "\n",
    "    books = collection.find(query, projection)\n",
    "\n",
    "    for book in books:\n",
    "        print(book)"
   ]
  },
  {
   "cell_type": "markdown",
   "metadata": {},
   "source": [
    "**[문제 2: 감독별 평균 영화 평점 계산]**\n",
    "\n",
    "- **문제 설명**:\n",
    "각 영화 감독별로 그들의 영화 평점의 평균을 계산하고 싶습니다. 이를 통해 어떤 감독이 가장 높은 평균 평점을 가지고 있는지 알아볼 수 있습니다.\n",
    "- **쿼리 작성 목표**:\n",
    "모든 영화 감독의 영화 평점 평균을 계산하고, 평균 평점이 높은 순으로 정렬하는 MongoDB 쿼리를 함수로 만들어 문제를 해결해 봅니다."
   ]
  },
  {
   "cell_type": "code",
   "execution_count": null,
   "metadata": {},
   "outputs": [],
   "source": [
    "def avgMovieRating(db):\n",
    "    collection = db['movies']\n",
    "    query = [\n",
    "        {\"$group\": {\"_id\": \"$director\", \"average_rating\": {\"$avg\": \"$rating\"}}},\n",
    "        {\"$sort\": {\"average_rating\": -1}}\n",
    "    ]\n",
    "    movies = collection.aggregate(query)\n",
    "\n",
    "    for movie in movies:\n",
    "        print(movie)"
   ]
  },
  {
   "cell_type": "markdown",
   "metadata": {},
   "source": [
    "**[문제 3: 특정 사용자의 최근 행동 조회]**\n",
    "\n",
    "- **문제 설명**:\n",
    "특정 사용자의 최근 행동 로그를 조회하고자 합니다. 이 때, 최신 순으로 정렬하여 최근 5개의 행동만을 보고 싶습니다.\n",
    "- **쿼리 작성 목표**:\n",
    "사용자 ID가 1인 사용자의 최근 행동 5개를 시간 순으로 정렬하여 조회하는 MongoDB 쿼리를 함수로 만들어 문제를 해결해 봅니다."
   ]
  },
  {
   "cell_type": "code",
   "execution_count": null,
   "metadata": {},
   "outputs": [],
   "source": [
    "def findLog(db,userId,limit=5):\n",
    "    collection = db['userLog']\n",
    "\n",
    "    query = {\"userId\": userId}\n",
    "    sort = [(\"timestamp\", -1)]\n",
    "\n",
    "    userLogs = collection.find(query).sort(sort).limit(limit)\n",
    "\n",
    "    for log in userLogs:\n",
    "        print(log)"
   ]
  },
  {
   "cell_type": "markdown",
   "metadata": {},
   "source": [
    "**[문제 4: 출판 연도별 책의 수 계산]**\n",
    "\n",
    "- **문제 설명** :\n",
    "데이터베이스에 저장된 책 데이터를 이용하여 각 출판 연도별로 출판된 책의 수를 계산하고자 합니다. 이 데이터는 시간에 따른 출판 트렌드를 분석하는 데 사용될 수 있습니다.\n",
    "- **쿼리 작성 목표** :\n",
    "각 출판 연도별로 출판된 책의 수를 계산하고, 출판된 책의 수가 많은 순서대로 정렬하는 MongoDB 쿼리를 함수로 만들어 문제를 해결해 봅니다."
   ]
  },
  {
   "cell_type": "code",
   "execution_count": null,
   "metadata": {},
   "outputs": [],
   "source": [
    "def countBooksPublishingByYear(db):\n",
    "    collection = db['books']\n",
    "\n",
    "    query= [\n",
    "        {\"$group\": {\"_id\": \"$year\", \"count\": {\"$sum\": 1}}},\n",
    "        {\"$sort\": {\"count\": -1}}\n",
    "    ]\n",
    "    countBooks = collection.aggregate(query)\n",
    "\n",
    "    for book in countBooks:\n",
    "        print(book)"
   ]
  },
  {
   "cell_type": "markdown",
   "metadata": {},
   "source": [
    "**[문제 5: 특정 사용자의 행동 유형 업데이트]**\n",
    "\n",
    "- **문제 설명**:\n",
    "특정 사용자의 행동 로그 중, 특정 날짜 이전의 \"view\" 행동을 \"seen\"으로 변경하고 싶습니다. 예를 들어, 사용자 ID가 1인 사용자의 2023년 4월 10일 이전의 모든 \"view\" 행동을 \"seen\"으로 변경하는 작업입니다.\n",
    "- **쿼리 작성 목표**:\n",
    "사용자 ID가 1인 사용자의 2023년 4월 10일 이전의 \"view\" 행동을 \"seen\"으로 변경하는 MongoDB 업데이트 쿼리를 함수로 만들어 문제를 해결해 봅니다."
   ]
  },
  {
   "cell_type": "code",
   "execution_count": null,
   "metadata": {},
   "outputs": [],
   "source": [
    "def updateUserLog(db, userId, date= datetime(2023, 4, 10)):\n",
    "    collection = db['userLog']\n",
    "\n",
    "    query = {\"userId\":userId, \"date\": {\"$lt\": date}, \"move\": \"view\"}\n",
    "    update ={\"$set\":{\"move\": \"seen\"}}\n",
    "\n",
    "    collection.update_many(query,update)"
   ]
  }
 ],
 "metadata": {
  "language_info": {
   "name": "python"
  }
 },
 "nbformat": 4,
 "nbformat_minor": 2
}
